{
  "cells": [
    {
      "cell_type": "markdown",
      "id": "08c1029c-19c9-4edd-8a96-017f70d8ed39",
      "metadata": {
        "id": "08c1029c-19c9-4edd-8a96-017f70d8ed39"
      },
      "source": [
        "## Programming Lab #2\n",
        "## Foundations of Machine Learning\n",
        "\n",
        "The purpose of this project is to build predictive algorithms that predict the likelihood a person has a stroke. The data include:\n",
        "  \n",
        "  - `age`: Patient age, numeric\n",
        "  - `avg_glucose_level`: Blood sugar levels, numeric\n",
        "  - `bmi`: Body mass index, numeric\n",
        "  - `ever_married`: Ever married, dummy/character (Yes, No)\n",
        "  - `gender`: Male, Female, or Other, character\n",
        "  - `heart_disease`: Has heart disease, dummy\n",
        "  - `hypertension`: Has hypertension, dummy\n",
        "  - `id`: Study identification number\n",
        "  - `Residence_type`: Type of residence, dummy/character (Urban, Rural)\n",
        "  - `smoking_status`: Former, never, or current smoker, categorical\n",
        "  - `work_type`: Employment type (Never worked (Never_worked), homemaker (\"children\"), Public sector employment (Govt_job), Private sector employment (`Private`), Self-employed (`Self-employed`)\n",
        "  - `stroke`: Suffered a stroke in the sample period\n",
        "  \n",
        "The data come in two files: `training_data.csv`, which you should use to build your models, and `testing_data.csv`, which you should use to test your models. The models must be trained on the training data and tested on the testing data, but providing both files allows you to experiment with your choices and iterate on model designs. If performance drops on the testing data, you know there's a problem.\n",
        "  \n",
        "You can use any of the tools presented in class: $k$ nearest neighbor, linear models, or decision trees. In principle, $k$ means clustering might also be helpful for looking for patterns in the data that the other methods might miss. Using canned versions of more advanced tools (boosting, bagging, random forests, neural networks, etc.) is deeply unsporting and thus not allowed. You can be creative about transforming variables, or combining decision trees with linear models or $k$NN. Try something interesting. Fail extravagantly. The goal is to work on an intellectually interesting question that is similar to the tasks that data scientists are called on to do every day.\n",
        "  \n",
        "We will compare the groups' models to see if there are common trends or significant differences, and also to declare **The Winners** on the basis of whichever team achieves the lowest $RMSE$ on the testing data. A simple linear model with some polynomials and dummy variables achieves an $R^2$ of .087 and a $RMSE$ of .206."
      ]
    },
    {
      "cell_type": "code",
      "source": [
        "! git clone https://github.com/LexiVanMetre/group7"
      ],
      "metadata": {
        "colab": {
          "base_uri": "https://localhost:8080/"
        },
        "id": "YuaJKaD2yzL1",
        "outputId": "3513914d-9e47-4470-c56d-6bc9e90f73dc"
      },
      "id": "YuaJKaD2yzL1",
      "execution_count": 86,
      "outputs": [
        {
          "output_type": "stream",
          "name": "stdout",
          "text": [
            "fatal: destination path 'group7' already exists and is not an empty directory.\n"
          ]
        }
      ]
    },
    {
      "cell_type": "code",
      "source": [
        "import os\n",
        "\n",
        "cwd = os.getcwd()  # Get the current working directory (cwd)\n",
        "files = os.listdir(cwd)  # Get all the files in that directory\n",
        "print(\"Files in %r: %s\" % (cwd, files))"
      ],
      "metadata": {
        "id": "AHpGaSni27oR",
        "outputId": "3fca0b3c-3b7e-49ea-bff5-10dacdcc4447",
        "colab": {
          "base_uri": "https://localhost:8080/"
        }
      },
      "id": "AHpGaSni27oR",
      "execution_count": 87,
      "outputs": [
        {
          "output_type": "stream",
          "name": "stdout",
          "text": [
            "Files in '/content': ['.config', 'group7', 'sample_data']\n"
          ]
        }
      ]
    },
    {
      "cell_type": "code",
      "source": [
        "ls group7"
      ],
      "metadata": {
        "id": "wl7y1JJj3HMX",
        "outputId": "b4b4e0cc-01d9-4bfc-d304-2b345a4e2113",
        "colab": {
          "base_uri": "https://localhost:8080/"
        }
      },
      "id": "wl7y1JJj3HMX",
      "execution_count": 88,
      "outputs": [
        {
          "output_type": "stream",
          "name": "stdout",
          "text": [
            "'Paper_ Project 1.pdf'                                                         \u001b[0m\u001b[01;34mproject_2\u001b[0m/\n",
            " \u001b[01;34mproject_1\u001b[0m/                                                                    README.md\n",
            "'Project 1: Analysis of Socioeconomic Factors Effecting Family Income.ipynb'\n"
          ]
        }
      ]
    },
    {
      "cell_type": "code",
      "execution_count": 89,
      "id": "2e54036f-f8be-4f4e-a122-870c06c52627",
      "metadata": {
        "id": "2e54036f-f8be-4f4e-a122-870c06c52627"
      },
      "outputs": [],
      "source": [
        "import pandas as pd\n",
        "import numpy as np\n",
        "df_train = pd.read_csv('/content/group7/project_2/data/training_data.csv')\n",
        "df_test = pd.read_csv('/content/group7/project_2/data/testing_data.csv')\n",
        "\n",
        "y_train = df_train['stroke']\n",
        "X_train = df_train.drop('stroke',axis=1)\n",
        "y_test = df_test['stroke']\n",
        "X_test = df_test.drop('stroke',axis=1)\n",
        "\n",
        "X_train['bmi'] = X_train['bmi'].fillna(X_train['bmi'].mean())\n",
        "X_test['bmi'] = X_test['bmi'].fillna(X_test['bmi'].mean())"
      ]
    },
    {
      "cell_type": "code",
      "execution_count": 90,
      "id": "8c092ec9-07c8-4140-86ea-2459bd39b42e",
      "metadata": {
        "colab": {
          "base_uri": "https://localhost:8080/"
        },
        "id": "8c092ec9-07c8-4140-86ea-2459bd39b42e",
        "outputId": "78cf3574-02e0-4afd-9d05-0491d4118b80"
      },
      "outputs": [
        {
          "output_type": "stream",
          "name": "stdout",
          "text": [
            "R2:  0.08717964343852191\n",
            "RMSE:  0.20599583849612824\n"
          ]
        }
      ],
      "source": [
        "## Linear Model\n",
        "from sklearn.linear_model import LinearRegression # Import linear regression model\n",
        "from sklearn.preprocessing import PolynomialFeatures\n",
        "\n",
        "X_train_numeric = X_train.loc[:,['age','hypertension','heart_disease','bmi','avg_glucose_level'] ]\n",
        "#\n",
        "expander = PolynomialFeatures(degree=2,include_bias=False) # Create the expander\n",
        "Z = expander.fit_transform(X_train_numeric) # Pass the df into the expander to get powers/interactions of x and y\n",
        "names = expander.get_feature_names_out() # Get the names of these variables\n",
        "continuous = pd.DataFrame(data=Z, columns = names) # Create a new, expanded dataframe\n",
        "#\n",
        "dummies = pd.concat([ pd.get_dummies(X_train['work_type'],dtype='int',drop_first=True),\n",
        "                      pd.get_dummies(X_train['Residence_type'],dtype='int',drop_first=True),\n",
        "                      pd.get_dummies(X_train['smoking_status'],dtype='int',drop_first=True)],axis=1)\n",
        "#\n",
        "Z_train = pd.concat([continuous,dummies],axis=1)\n",
        "\n",
        "X_test_numeric = X_test.loc[:,['age','hypertension','heart_disease','bmi','avg_glucose_level'] ]\n",
        "#\n",
        "expander = PolynomialFeatures(degree=2,include_bias=False) # Create the expander\n",
        "Z = expander.fit_transform(X_test_numeric) # Pass the df into the expander to get powers/interactions of x and y\n",
        "names = expander.get_feature_names_out() # Get the names of these variables\n",
        "continuous = pd.DataFrame(data=Z, columns = names) # Create a new, expanded dataframe\n",
        "\n",
        "dummies = pd.concat([ pd.get_dummies(X_test['work_type'],dtype='int',drop_first=True),\n",
        "                      pd.get_dummies(X_test['Residence_type'],dtype='int',drop_first=True),\n",
        "                      pd.get_dummies(X_test['smoking_status'],dtype='int',drop_first=True)],axis=1)\n",
        "#\n",
        "Z_test = pd.concat([continuous,dummies],axis=1)\n",
        "\n",
        "# Fit the model and get the R2 measure:\n",
        "reg = LinearRegression().fit(Z_train, y_train) # Fit the linear model\n",
        "print('R2: ', reg.score(Z_test, y_test)) # R squared measure\n",
        "y_hat = reg.predict(Z_test)\n",
        "N = len(y_test)\n",
        "print('RMSE: ', (np.sum( (y_test - y_hat)**2)/N )**.5 )   # R squared measure\n"
      ]
    },
    {
      "cell_type": "code",
      "source": [
        "df_train.head()"
      ],
      "metadata": {
        "id": "kyCWF7A44AxS",
        "outputId": "f291387e-ab64-4018-95b5-5ec418b6ab18",
        "colab": {
          "base_uri": "https://localhost:8080/",
          "height": 206
        }
      },
      "id": "kyCWF7A44AxS",
      "execution_count": 91,
      "outputs": [
        {
          "output_type": "execute_result",
          "data": {
            "text/plain": [
              "   Unnamed: 0     id  gender   age  hypertension  heart_disease ever_married  \\\n",
              "0        2465  68685    Male  36.0             0              0          Yes   \n",
              "1        4311  59058  Female  45.0             0              0          Yes   \n",
              "2        2375  46068    Male  58.0             0              0           No   \n",
              "3        5017  36837  Female  61.0             0              0          Yes   \n",
              "4         753  30550  Female  78.0             0              0           No   \n",
              "\n",
              "       work_type Residence_type  avg_glucose_level   bmi   smoking_status  \\\n",
              "0       Govt_job          Urban              65.87  32.2  formerly smoked   \n",
              "1       Govt_job          Rural              68.66  25.3     never smoked   \n",
              "2  Self-employed          Rural             170.93  30.7          Unknown   \n",
              "3  Self-employed          Urban              69.88  27.1     never smoked   \n",
              "4        Private          Urban             103.86  30.6          Unknown   \n",
              "\n",
              "   stroke  \n",
              "0       0  \n",
              "1       0  \n",
              "2       0  \n",
              "3       0  \n",
              "4       0  "
            ],
            "text/html": [
              "\n",
              "  <div id=\"df-3b9666c6-6aa1-4c9b-89e3-4ae8cd30eb64\" class=\"colab-df-container\">\n",
              "    <div>\n",
              "<style scoped>\n",
              "    .dataframe tbody tr th:only-of-type {\n",
              "        vertical-align: middle;\n",
              "    }\n",
              "\n",
              "    .dataframe tbody tr th {\n",
              "        vertical-align: top;\n",
              "    }\n",
              "\n",
              "    .dataframe thead th {\n",
              "        text-align: right;\n",
              "    }\n",
              "</style>\n",
              "<table border=\"1\" class=\"dataframe\">\n",
              "  <thead>\n",
              "    <tr style=\"text-align: right;\">\n",
              "      <th></th>\n",
              "      <th>Unnamed: 0</th>\n",
              "      <th>id</th>\n",
              "      <th>gender</th>\n",
              "      <th>age</th>\n",
              "      <th>hypertension</th>\n",
              "      <th>heart_disease</th>\n",
              "      <th>ever_married</th>\n",
              "      <th>work_type</th>\n",
              "      <th>Residence_type</th>\n",
              "      <th>avg_glucose_level</th>\n",
              "      <th>bmi</th>\n",
              "      <th>smoking_status</th>\n",
              "      <th>stroke</th>\n",
              "    </tr>\n",
              "  </thead>\n",
              "  <tbody>\n",
              "    <tr>\n",
              "      <th>0</th>\n",
              "      <td>2465</td>\n",
              "      <td>68685</td>\n",
              "      <td>Male</td>\n",
              "      <td>36.0</td>\n",
              "      <td>0</td>\n",
              "      <td>0</td>\n",
              "      <td>Yes</td>\n",
              "      <td>Govt_job</td>\n",
              "      <td>Urban</td>\n",
              "      <td>65.87</td>\n",
              "      <td>32.2</td>\n",
              "      <td>formerly smoked</td>\n",
              "      <td>0</td>\n",
              "    </tr>\n",
              "    <tr>\n",
              "      <th>1</th>\n",
              "      <td>4311</td>\n",
              "      <td>59058</td>\n",
              "      <td>Female</td>\n",
              "      <td>45.0</td>\n",
              "      <td>0</td>\n",
              "      <td>0</td>\n",
              "      <td>Yes</td>\n",
              "      <td>Govt_job</td>\n",
              "      <td>Rural</td>\n",
              "      <td>68.66</td>\n",
              "      <td>25.3</td>\n",
              "      <td>never smoked</td>\n",
              "      <td>0</td>\n",
              "    </tr>\n",
              "    <tr>\n",
              "      <th>2</th>\n",
              "      <td>2375</td>\n",
              "      <td>46068</td>\n",
              "      <td>Male</td>\n",
              "      <td>58.0</td>\n",
              "      <td>0</td>\n",
              "      <td>0</td>\n",
              "      <td>No</td>\n",
              "      <td>Self-employed</td>\n",
              "      <td>Rural</td>\n",
              "      <td>170.93</td>\n",
              "      <td>30.7</td>\n",
              "      <td>Unknown</td>\n",
              "      <td>0</td>\n",
              "    </tr>\n",
              "    <tr>\n",
              "      <th>3</th>\n",
              "      <td>5017</td>\n",
              "      <td>36837</td>\n",
              "      <td>Female</td>\n",
              "      <td>61.0</td>\n",
              "      <td>0</td>\n",
              "      <td>0</td>\n",
              "      <td>Yes</td>\n",
              "      <td>Self-employed</td>\n",
              "      <td>Urban</td>\n",
              "      <td>69.88</td>\n",
              "      <td>27.1</td>\n",
              "      <td>never smoked</td>\n",
              "      <td>0</td>\n",
              "    </tr>\n",
              "    <tr>\n",
              "      <th>4</th>\n",
              "      <td>753</td>\n",
              "      <td>30550</td>\n",
              "      <td>Female</td>\n",
              "      <td>78.0</td>\n",
              "      <td>0</td>\n",
              "      <td>0</td>\n",
              "      <td>No</td>\n",
              "      <td>Private</td>\n",
              "      <td>Urban</td>\n",
              "      <td>103.86</td>\n",
              "      <td>30.6</td>\n",
              "      <td>Unknown</td>\n",
              "      <td>0</td>\n",
              "    </tr>\n",
              "  </tbody>\n",
              "</table>\n",
              "</div>\n",
              "    <div class=\"colab-df-buttons\">\n",
              "\n",
              "  <div class=\"colab-df-container\">\n",
              "    <button class=\"colab-df-convert\" onclick=\"convertToInteractive('df-3b9666c6-6aa1-4c9b-89e3-4ae8cd30eb64')\"\n",
              "            title=\"Convert this dataframe to an interactive table.\"\n",
              "            style=\"display:none;\">\n",
              "\n",
              "  <svg xmlns=\"http://www.w3.org/2000/svg\" height=\"24px\" viewBox=\"0 -960 960 960\">\n",
              "    <path d=\"M120-120v-720h720v720H120Zm60-500h600v-160H180v160Zm220 220h160v-160H400v160Zm0 220h160v-160H400v160ZM180-400h160v-160H180v160Zm440 0h160v-160H620v160ZM180-180h160v-160H180v160Zm440 0h160v-160H620v160Z\"/>\n",
              "  </svg>\n",
              "    </button>\n",
              "\n",
              "  <style>\n",
              "    .colab-df-container {\n",
              "      display:flex;\n",
              "      gap: 12px;\n",
              "    }\n",
              "\n",
              "    .colab-df-convert {\n",
              "      background-color: #E8F0FE;\n",
              "      border: none;\n",
              "      border-radius: 50%;\n",
              "      cursor: pointer;\n",
              "      display: none;\n",
              "      fill: #1967D2;\n",
              "      height: 32px;\n",
              "      padding: 0 0 0 0;\n",
              "      width: 32px;\n",
              "    }\n",
              "\n",
              "    .colab-df-convert:hover {\n",
              "      background-color: #E2EBFA;\n",
              "      box-shadow: 0px 1px 2px rgba(60, 64, 67, 0.3), 0px 1px 3px 1px rgba(60, 64, 67, 0.15);\n",
              "      fill: #174EA6;\n",
              "    }\n",
              "\n",
              "    .colab-df-buttons div {\n",
              "      margin-bottom: 4px;\n",
              "    }\n",
              "\n",
              "    [theme=dark] .colab-df-convert {\n",
              "      background-color: #3B4455;\n",
              "      fill: #D2E3FC;\n",
              "    }\n",
              "\n",
              "    [theme=dark] .colab-df-convert:hover {\n",
              "      background-color: #434B5C;\n",
              "      box-shadow: 0px 1px 3px 1px rgba(0, 0, 0, 0.15);\n",
              "      filter: drop-shadow(0px 1px 2px rgba(0, 0, 0, 0.3));\n",
              "      fill: #FFFFFF;\n",
              "    }\n",
              "  </style>\n",
              "\n",
              "    <script>\n",
              "      const buttonEl =\n",
              "        document.querySelector('#df-3b9666c6-6aa1-4c9b-89e3-4ae8cd30eb64 button.colab-df-convert');\n",
              "      buttonEl.style.display =\n",
              "        google.colab.kernel.accessAllowed ? 'block' : 'none';\n",
              "\n",
              "      async function convertToInteractive(key) {\n",
              "        const element = document.querySelector('#df-3b9666c6-6aa1-4c9b-89e3-4ae8cd30eb64');\n",
              "        const dataTable =\n",
              "          await google.colab.kernel.invokeFunction('convertToInteractive',\n",
              "                                                    [key], {});\n",
              "        if (!dataTable) return;\n",
              "\n",
              "        const docLinkHtml = 'Like what you see? Visit the ' +\n",
              "          '<a target=\"_blank\" href=https://colab.research.google.com/notebooks/data_table.ipynb>data table notebook</a>'\n",
              "          + ' to learn more about interactive tables.';\n",
              "        element.innerHTML = '';\n",
              "        dataTable['output_type'] = 'display_data';\n",
              "        await google.colab.output.renderOutput(dataTable, element);\n",
              "        const docLink = document.createElement('div');\n",
              "        docLink.innerHTML = docLinkHtml;\n",
              "        element.appendChild(docLink);\n",
              "      }\n",
              "    </script>\n",
              "  </div>\n",
              "\n",
              "\n",
              "<div id=\"df-b4a6c2c3-281b-459c-91d1-a7403d54583f\">\n",
              "  <button class=\"colab-df-quickchart\" onclick=\"quickchart('df-b4a6c2c3-281b-459c-91d1-a7403d54583f')\"\n",
              "            title=\"Suggest charts\"\n",
              "            style=\"display:none;\">\n",
              "\n",
              "<svg xmlns=\"http://www.w3.org/2000/svg\" height=\"24px\"viewBox=\"0 0 24 24\"\n",
              "     width=\"24px\">\n",
              "    <g>\n",
              "        <path d=\"M19 3H5c-1.1 0-2 .9-2 2v14c0 1.1.9 2 2 2h14c1.1 0 2-.9 2-2V5c0-1.1-.9-2-2-2zM9 17H7v-7h2v7zm4 0h-2V7h2v10zm4 0h-2v-4h2v4z\"/>\n",
              "    </g>\n",
              "</svg>\n",
              "  </button>\n",
              "\n",
              "<style>\n",
              "  .colab-df-quickchart {\n",
              "      --bg-color: #E8F0FE;\n",
              "      --fill-color: #1967D2;\n",
              "      --hover-bg-color: #E2EBFA;\n",
              "      --hover-fill-color: #174EA6;\n",
              "      --disabled-fill-color: #AAA;\n",
              "      --disabled-bg-color: #DDD;\n",
              "  }\n",
              "\n",
              "  [theme=dark] .colab-df-quickchart {\n",
              "      --bg-color: #3B4455;\n",
              "      --fill-color: #D2E3FC;\n",
              "      --hover-bg-color: #434B5C;\n",
              "      --hover-fill-color: #FFFFFF;\n",
              "      --disabled-bg-color: #3B4455;\n",
              "      --disabled-fill-color: #666;\n",
              "  }\n",
              "\n",
              "  .colab-df-quickchart {\n",
              "    background-color: var(--bg-color);\n",
              "    border: none;\n",
              "    border-radius: 50%;\n",
              "    cursor: pointer;\n",
              "    display: none;\n",
              "    fill: var(--fill-color);\n",
              "    height: 32px;\n",
              "    padding: 0;\n",
              "    width: 32px;\n",
              "  }\n",
              "\n",
              "  .colab-df-quickchart:hover {\n",
              "    background-color: var(--hover-bg-color);\n",
              "    box-shadow: 0 1px 2px rgba(60, 64, 67, 0.3), 0 1px 3px 1px rgba(60, 64, 67, 0.15);\n",
              "    fill: var(--button-hover-fill-color);\n",
              "  }\n",
              "\n",
              "  .colab-df-quickchart-complete:disabled,\n",
              "  .colab-df-quickchart-complete:disabled:hover {\n",
              "    background-color: var(--disabled-bg-color);\n",
              "    fill: var(--disabled-fill-color);\n",
              "    box-shadow: none;\n",
              "  }\n",
              "\n",
              "  .colab-df-spinner {\n",
              "    border: 2px solid var(--fill-color);\n",
              "    border-color: transparent;\n",
              "    border-bottom-color: var(--fill-color);\n",
              "    animation:\n",
              "      spin 1s steps(1) infinite;\n",
              "  }\n",
              "\n",
              "  @keyframes spin {\n",
              "    0% {\n",
              "      border-color: transparent;\n",
              "      border-bottom-color: var(--fill-color);\n",
              "      border-left-color: var(--fill-color);\n",
              "    }\n",
              "    20% {\n",
              "      border-color: transparent;\n",
              "      border-left-color: var(--fill-color);\n",
              "      border-top-color: var(--fill-color);\n",
              "    }\n",
              "    30% {\n",
              "      border-color: transparent;\n",
              "      border-left-color: var(--fill-color);\n",
              "      border-top-color: var(--fill-color);\n",
              "      border-right-color: var(--fill-color);\n",
              "    }\n",
              "    40% {\n",
              "      border-color: transparent;\n",
              "      border-right-color: var(--fill-color);\n",
              "      border-top-color: var(--fill-color);\n",
              "    }\n",
              "    60% {\n",
              "      border-color: transparent;\n",
              "      border-right-color: var(--fill-color);\n",
              "    }\n",
              "    80% {\n",
              "      border-color: transparent;\n",
              "      border-right-color: var(--fill-color);\n",
              "      border-bottom-color: var(--fill-color);\n",
              "    }\n",
              "    90% {\n",
              "      border-color: transparent;\n",
              "      border-bottom-color: var(--fill-color);\n",
              "    }\n",
              "  }\n",
              "</style>\n",
              "\n",
              "  <script>\n",
              "    async function quickchart(key) {\n",
              "      const quickchartButtonEl =\n",
              "        document.querySelector('#' + key + ' button');\n",
              "      quickchartButtonEl.disabled = true;  // To prevent multiple clicks.\n",
              "      quickchartButtonEl.classList.add('colab-df-spinner');\n",
              "      try {\n",
              "        const charts = await google.colab.kernel.invokeFunction(\n",
              "            'suggestCharts', [key], {});\n",
              "      } catch (error) {\n",
              "        console.error('Error during call to suggestCharts:', error);\n",
              "      }\n",
              "      quickchartButtonEl.classList.remove('colab-df-spinner');\n",
              "      quickchartButtonEl.classList.add('colab-df-quickchart-complete');\n",
              "    }\n",
              "    (() => {\n",
              "      let quickchartButtonEl =\n",
              "        document.querySelector('#df-b4a6c2c3-281b-459c-91d1-a7403d54583f button');\n",
              "      quickchartButtonEl.style.display =\n",
              "        google.colab.kernel.accessAllowed ? 'block' : 'none';\n",
              "    })();\n",
              "  </script>\n",
              "</div>\n",
              "    </div>\n",
              "  </div>\n"
            ]
          },
          "metadata": {},
          "execution_count": 91
        }
      ]
    },
    {
      "cell_type": "code",
      "source": [
        "print(df_train.dtypes)"
      ],
      "metadata": {
        "id": "w_NcxZIO4MbH",
        "outputId": "e41d877f-f41c-4801-d44a-30e402a1ae14",
        "colab": {
          "base_uri": "https://localhost:8080/"
        }
      },
      "id": "w_NcxZIO4MbH",
      "execution_count": 92,
      "outputs": [
        {
          "output_type": "stream",
          "name": "stdout",
          "text": [
            "Unnamed: 0             int64\n",
            "id                     int64\n",
            "gender                object\n",
            "age                  float64\n",
            "hypertension           int64\n",
            "heart_disease          int64\n",
            "ever_married          object\n",
            "work_type             object\n",
            "Residence_type        object\n",
            "avg_glucose_level    float64\n",
            "bmi                  float64\n",
            "smoking_status        object\n",
            "stroke                 int64\n",
            "dtype: object\n"
          ]
        }
      ]
    },
    {
      "cell_type": "code",
      "source": [
        "df_train.head()"
      ],
      "metadata": {
        "id": "HfipTJbF5apE",
        "outputId": "a0a15978-8f31-4f84-99c1-946603d4a4c6",
        "colab": {
          "base_uri": "https://localhost:8080/",
          "height": 206
        }
      },
      "id": "HfipTJbF5apE",
      "execution_count": 94,
      "outputs": [
        {
          "output_type": "execute_result",
          "data": {
            "text/plain": [
              "   Unnamed: 0     id  gender   age  hypertension  heart_disease ever_married  \\\n",
              "0        2465  68685    Male  36.0             0              0          Yes   \n",
              "1        4311  59058  Female  45.0             0              0          Yes   \n",
              "2        2375  46068    Male  58.0             0              0           No   \n",
              "3        5017  36837  Female  61.0             0              0          Yes   \n",
              "4         753  30550  Female  78.0             0              0           No   \n",
              "\n",
              "       work_type Residence_type  avg_glucose_level   bmi   smoking_status  \\\n",
              "0       Govt_job          Urban              65.87  32.2  formerly smoked   \n",
              "1       Govt_job          Rural              68.66  25.3     never smoked   \n",
              "2  Self-employed          Rural             170.93  30.7          Unknown   \n",
              "3  Self-employed          Urban              69.88  27.1     never smoked   \n",
              "4        Private          Urban             103.86  30.6          Unknown   \n",
              "\n",
              "   stroke  \n",
              "0       0  \n",
              "1       0  \n",
              "2       0  \n",
              "3       0  \n",
              "4       0  "
            ],
            "text/html": [
              "\n",
              "  <div id=\"df-48168373-9eda-4d90-a3f5-1a0729c7dbe4\" class=\"colab-df-container\">\n",
              "    <div>\n",
              "<style scoped>\n",
              "    .dataframe tbody tr th:only-of-type {\n",
              "        vertical-align: middle;\n",
              "    }\n",
              "\n",
              "    .dataframe tbody tr th {\n",
              "        vertical-align: top;\n",
              "    }\n",
              "\n",
              "    .dataframe thead th {\n",
              "        text-align: right;\n",
              "    }\n",
              "</style>\n",
              "<table border=\"1\" class=\"dataframe\">\n",
              "  <thead>\n",
              "    <tr style=\"text-align: right;\">\n",
              "      <th></th>\n",
              "      <th>Unnamed: 0</th>\n",
              "      <th>id</th>\n",
              "      <th>gender</th>\n",
              "      <th>age</th>\n",
              "      <th>hypertension</th>\n",
              "      <th>heart_disease</th>\n",
              "      <th>ever_married</th>\n",
              "      <th>work_type</th>\n",
              "      <th>Residence_type</th>\n",
              "      <th>avg_glucose_level</th>\n",
              "      <th>bmi</th>\n",
              "      <th>smoking_status</th>\n",
              "      <th>stroke</th>\n",
              "    </tr>\n",
              "  </thead>\n",
              "  <tbody>\n",
              "    <tr>\n",
              "      <th>0</th>\n",
              "      <td>2465</td>\n",
              "      <td>68685</td>\n",
              "      <td>Male</td>\n",
              "      <td>36.0</td>\n",
              "      <td>0</td>\n",
              "      <td>0</td>\n",
              "      <td>Yes</td>\n",
              "      <td>Govt_job</td>\n",
              "      <td>Urban</td>\n",
              "      <td>65.87</td>\n",
              "      <td>32.2</td>\n",
              "      <td>formerly smoked</td>\n",
              "      <td>0</td>\n",
              "    </tr>\n",
              "    <tr>\n",
              "      <th>1</th>\n",
              "      <td>4311</td>\n",
              "      <td>59058</td>\n",
              "      <td>Female</td>\n",
              "      <td>45.0</td>\n",
              "      <td>0</td>\n",
              "      <td>0</td>\n",
              "      <td>Yes</td>\n",
              "      <td>Govt_job</td>\n",
              "      <td>Rural</td>\n",
              "      <td>68.66</td>\n",
              "      <td>25.3</td>\n",
              "      <td>never smoked</td>\n",
              "      <td>0</td>\n",
              "    </tr>\n",
              "    <tr>\n",
              "      <th>2</th>\n",
              "      <td>2375</td>\n",
              "      <td>46068</td>\n",
              "      <td>Male</td>\n",
              "      <td>58.0</td>\n",
              "      <td>0</td>\n",
              "      <td>0</td>\n",
              "      <td>No</td>\n",
              "      <td>Self-employed</td>\n",
              "      <td>Rural</td>\n",
              "      <td>170.93</td>\n",
              "      <td>30.7</td>\n",
              "      <td>Unknown</td>\n",
              "      <td>0</td>\n",
              "    </tr>\n",
              "    <tr>\n",
              "      <th>3</th>\n",
              "      <td>5017</td>\n",
              "      <td>36837</td>\n",
              "      <td>Female</td>\n",
              "      <td>61.0</td>\n",
              "      <td>0</td>\n",
              "      <td>0</td>\n",
              "      <td>Yes</td>\n",
              "      <td>Self-employed</td>\n",
              "      <td>Urban</td>\n",
              "      <td>69.88</td>\n",
              "      <td>27.1</td>\n",
              "      <td>never smoked</td>\n",
              "      <td>0</td>\n",
              "    </tr>\n",
              "    <tr>\n",
              "      <th>4</th>\n",
              "      <td>753</td>\n",
              "      <td>30550</td>\n",
              "      <td>Female</td>\n",
              "      <td>78.0</td>\n",
              "      <td>0</td>\n",
              "      <td>0</td>\n",
              "      <td>No</td>\n",
              "      <td>Private</td>\n",
              "      <td>Urban</td>\n",
              "      <td>103.86</td>\n",
              "      <td>30.6</td>\n",
              "      <td>Unknown</td>\n",
              "      <td>0</td>\n",
              "    </tr>\n",
              "  </tbody>\n",
              "</table>\n",
              "</div>\n",
              "    <div class=\"colab-df-buttons\">\n",
              "\n",
              "  <div class=\"colab-df-container\">\n",
              "    <button class=\"colab-df-convert\" onclick=\"convertToInteractive('df-48168373-9eda-4d90-a3f5-1a0729c7dbe4')\"\n",
              "            title=\"Convert this dataframe to an interactive table.\"\n",
              "            style=\"display:none;\">\n",
              "\n",
              "  <svg xmlns=\"http://www.w3.org/2000/svg\" height=\"24px\" viewBox=\"0 -960 960 960\">\n",
              "    <path d=\"M120-120v-720h720v720H120Zm60-500h600v-160H180v160Zm220 220h160v-160H400v160Zm0 220h160v-160H400v160ZM180-400h160v-160H180v160Zm440 0h160v-160H620v160ZM180-180h160v-160H180v160Zm440 0h160v-160H620v160Z\"/>\n",
              "  </svg>\n",
              "    </button>\n",
              "\n",
              "  <style>\n",
              "    .colab-df-container {\n",
              "      display:flex;\n",
              "      gap: 12px;\n",
              "    }\n",
              "\n",
              "    .colab-df-convert {\n",
              "      background-color: #E8F0FE;\n",
              "      border: none;\n",
              "      border-radius: 50%;\n",
              "      cursor: pointer;\n",
              "      display: none;\n",
              "      fill: #1967D2;\n",
              "      height: 32px;\n",
              "      padding: 0 0 0 0;\n",
              "      width: 32px;\n",
              "    }\n",
              "\n",
              "    .colab-df-convert:hover {\n",
              "      background-color: #E2EBFA;\n",
              "      box-shadow: 0px 1px 2px rgba(60, 64, 67, 0.3), 0px 1px 3px 1px rgba(60, 64, 67, 0.15);\n",
              "      fill: #174EA6;\n",
              "    }\n",
              "\n",
              "    .colab-df-buttons div {\n",
              "      margin-bottom: 4px;\n",
              "    }\n",
              "\n",
              "    [theme=dark] .colab-df-convert {\n",
              "      background-color: #3B4455;\n",
              "      fill: #D2E3FC;\n",
              "    }\n",
              "\n",
              "    [theme=dark] .colab-df-convert:hover {\n",
              "      background-color: #434B5C;\n",
              "      box-shadow: 0px 1px 3px 1px rgba(0, 0, 0, 0.15);\n",
              "      filter: drop-shadow(0px 1px 2px rgba(0, 0, 0, 0.3));\n",
              "      fill: #FFFFFF;\n",
              "    }\n",
              "  </style>\n",
              "\n",
              "    <script>\n",
              "      const buttonEl =\n",
              "        document.querySelector('#df-48168373-9eda-4d90-a3f5-1a0729c7dbe4 button.colab-df-convert');\n",
              "      buttonEl.style.display =\n",
              "        google.colab.kernel.accessAllowed ? 'block' : 'none';\n",
              "\n",
              "      async function convertToInteractive(key) {\n",
              "        const element = document.querySelector('#df-48168373-9eda-4d90-a3f5-1a0729c7dbe4');\n",
              "        const dataTable =\n",
              "          await google.colab.kernel.invokeFunction('convertToInteractive',\n",
              "                                                    [key], {});\n",
              "        if (!dataTable) return;\n",
              "\n",
              "        const docLinkHtml = 'Like what you see? Visit the ' +\n",
              "          '<a target=\"_blank\" href=https://colab.research.google.com/notebooks/data_table.ipynb>data table notebook</a>'\n",
              "          + ' to learn more about interactive tables.';\n",
              "        element.innerHTML = '';\n",
              "        dataTable['output_type'] = 'display_data';\n",
              "        await google.colab.output.renderOutput(dataTable, element);\n",
              "        const docLink = document.createElement('div');\n",
              "        docLink.innerHTML = docLinkHtml;\n",
              "        element.appendChild(docLink);\n",
              "      }\n",
              "    </script>\n",
              "  </div>\n",
              "\n",
              "\n",
              "<div id=\"df-deb36340-dec7-437f-b6bd-19c1fa6520e6\">\n",
              "  <button class=\"colab-df-quickchart\" onclick=\"quickchart('df-deb36340-dec7-437f-b6bd-19c1fa6520e6')\"\n",
              "            title=\"Suggest charts\"\n",
              "            style=\"display:none;\">\n",
              "\n",
              "<svg xmlns=\"http://www.w3.org/2000/svg\" height=\"24px\"viewBox=\"0 0 24 24\"\n",
              "     width=\"24px\">\n",
              "    <g>\n",
              "        <path d=\"M19 3H5c-1.1 0-2 .9-2 2v14c0 1.1.9 2 2 2h14c1.1 0 2-.9 2-2V5c0-1.1-.9-2-2-2zM9 17H7v-7h2v7zm4 0h-2V7h2v10zm4 0h-2v-4h2v4z\"/>\n",
              "    </g>\n",
              "</svg>\n",
              "  </button>\n",
              "\n",
              "<style>\n",
              "  .colab-df-quickchart {\n",
              "      --bg-color: #E8F0FE;\n",
              "      --fill-color: #1967D2;\n",
              "      --hover-bg-color: #E2EBFA;\n",
              "      --hover-fill-color: #174EA6;\n",
              "      --disabled-fill-color: #AAA;\n",
              "      --disabled-bg-color: #DDD;\n",
              "  }\n",
              "\n",
              "  [theme=dark] .colab-df-quickchart {\n",
              "      --bg-color: #3B4455;\n",
              "      --fill-color: #D2E3FC;\n",
              "      --hover-bg-color: #434B5C;\n",
              "      --hover-fill-color: #FFFFFF;\n",
              "      --disabled-bg-color: #3B4455;\n",
              "      --disabled-fill-color: #666;\n",
              "  }\n",
              "\n",
              "  .colab-df-quickchart {\n",
              "    background-color: var(--bg-color);\n",
              "    border: none;\n",
              "    border-radius: 50%;\n",
              "    cursor: pointer;\n",
              "    display: none;\n",
              "    fill: var(--fill-color);\n",
              "    height: 32px;\n",
              "    padding: 0;\n",
              "    width: 32px;\n",
              "  }\n",
              "\n",
              "  .colab-df-quickchart:hover {\n",
              "    background-color: var(--hover-bg-color);\n",
              "    box-shadow: 0 1px 2px rgba(60, 64, 67, 0.3), 0 1px 3px 1px rgba(60, 64, 67, 0.15);\n",
              "    fill: var(--button-hover-fill-color);\n",
              "  }\n",
              "\n",
              "  .colab-df-quickchart-complete:disabled,\n",
              "  .colab-df-quickchart-complete:disabled:hover {\n",
              "    background-color: var(--disabled-bg-color);\n",
              "    fill: var(--disabled-fill-color);\n",
              "    box-shadow: none;\n",
              "  }\n",
              "\n",
              "  .colab-df-spinner {\n",
              "    border: 2px solid var(--fill-color);\n",
              "    border-color: transparent;\n",
              "    border-bottom-color: var(--fill-color);\n",
              "    animation:\n",
              "      spin 1s steps(1) infinite;\n",
              "  }\n",
              "\n",
              "  @keyframes spin {\n",
              "    0% {\n",
              "      border-color: transparent;\n",
              "      border-bottom-color: var(--fill-color);\n",
              "      border-left-color: var(--fill-color);\n",
              "    }\n",
              "    20% {\n",
              "      border-color: transparent;\n",
              "      border-left-color: var(--fill-color);\n",
              "      border-top-color: var(--fill-color);\n",
              "    }\n",
              "    30% {\n",
              "      border-color: transparent;\n",
              "      border-left-color: var(--fill-color);\n",
              "      border-top-color: var(--fill-color);\n",
              "      border-right-color: var(--fill-color);\n",
              "    }\n",
              "    40% {\n",
              "      border-color: transparent;\n",
              "      border-right-color: var(--fill-color);\n",
              "      border-top-color: var(--fill-color);\n",
              "    }\n",
              "    60% {\n",
              "      border-color: transparent;\n",
              "      border-right-color: var(--fill-color);\n",
              "    }\n",
              "    80% {\n",
              "      border-color: transparent;\n",
              "      border-right-color: var(--fill-color);\n",
              "      border-bottom-color: var(--fill-color);\n",
              "    }\n",
              "    90% {\n",
              "      border-color: transparent;\n",
              "      border-bottom-color: var(--fill-color);\n",
              "    }\n",
              "  }\n",
              "</style>\n",
              "\n",
              "  <script>\n",
              "    async function quickchart(key) {\n",
              "      const quickchartButtonEl =\n",
              "        document.querySelector('#' + key + ' button');\n",
              "      quickchartButtonEl.disabled = true;  // To prevent multiple clicks.\n",
              "      quickchartButtonEl.classList.add('colab-df-spinner');\n",
              "      try {\n",
              "        const charts = await google.colab.kernel.invokeFunction(\n",
              "            'suggestCharts', [key], {});\n",
              "      } catch (error) {\n",
              "        console.error('Error during call to suggestCharts:', error);\n",
              "      }\n",
              "      quickchartButtonEl.classList.remove('colab-df-spinner');\n",
              "      quickchartButtonEl.classList.add('colab-df-quickchart-complete');\n",
              "    }\n",
              "    (() => {\n",
              "      let quickchartButtonEl =\n",
              "        document.querySelector('#df-deb36340-dec7-437f-b6bd-19c1fa6520e6 button');\n",
              "      quickchartButtonEl.style.display =\n",
              "        google.colab.kernel.accessAllowed ? 'block' : 'none';\n",
              "    })();\n",
              "  </script>\n",
              "</div>\n",
              "    </div>\n",
              "  </div>\n"
            ]
          },
          "metadata": {},
          "execution_count": 94
        }
      ]
    },
    {
      "cell_type": "code",
      "source": [
        "# checking the categorical variables to make sure that there are no misspellings in the group names that we need to fix:\n",
        "print(df_train['gender'].value_counts())\n",
        "print('----------------------------')\n",
        "\n",
        "print(df_train['ever_married'].value_counts())\n",
        "print('----------------------------')\n",
        "\n",
        "print(df_train['work_type'].value_counts())\n",
        "print('----------------------------')\n",
        "\n",
        "print(df_train['Residence_type'].value_counts())\n",
        "print('----------------------------')\n",
        "\n",
        "print(df_train['smoking_status'].value_counts())\n",
        "print('----------------------------')\n",
        "\n",
        "print(df_train['stroke'].value_counts())\n",
        "print('----------------------------')\n",
        "\n",
        "print(df_train['heart_disease'].value_counts())\n",
        "print('----------------------------')\n",
        "\n",
        "print(df_train['hypertension'].value_counts())\n",
        "print('----------------------------')\n"
      ],
      "metadata": {
        "id": "KwmHh-hL5wef",
        "outputId": "df9a7091-20fd-4f32-9bfc-e0547e48e3bc",
        "colab": {
          "base_uri": "https://localhost:8080/"
        }
      },
      "id": "KwmHh-hL5wef",
      "execution_count": 95,
      "outputs": [
        {
          "output_type": "stream",
          "name": "stdout",
          "text": [
            "Female    2398\n",
            "Male      1688\n",
            "Other        1\n",
            "Name: gender, dtype: int64\n",
            "----------------------------\n",
            "Yes    2686\n",
            "No     1401\n",
            "Name: ever_married, dtype: int64\n",
            "----------------------------\n",
            "Private          2329\n",
            "Self-employed     667\n",
            "children          542\n",
            "Govt_job          534\n",
            "Never_worked       15\n",
            "Name: work_type, dtype: int64\n",
            "----------------------------\n",
            "Urban    2052\n",
            "Rural    2035\n",
            "Name: Residence_type, dtype: int64\n",
            "----------------------------\n",
            "never smoked       1505\n",
            "Unknown            1241\n",
            "formerly smoked     699\n",
            "smokes              642\n",
            "Name: smoking_status, dtype: int64\n",
            "----------------------------\n",
            "0    3888\n",
            "1     199\n",
            "Name: stroke, dtype: int64\n",
            "----------------------------\n",
            "0    3858\n",
            "1     229\n",
            "Name: heart_disease, dtype: int64\n",
            "----------------------------\n",
            "0    3687\n",
            "1     400\n",
            "Name: hypertension, dtype: int64\n",
            "----------------------------\n"
          ]
        }
      ]
    },
    {
      "cell_type": "code",
      "source": [
        "# Splitting the data and filling in some of the NAs with averages\n",
        "y_train = df_train['stroke']\n",
        "X_train = df_train.drop('stroke',axis=1)\n",
        "y_test = df_test['stroke']\n",
        "X_test = df_test.drop('stroke',axis=1)\n",
        "\n",
        "X_train['bmi'] = X_train['bmi'].fillna(X_train['bmi'].mean())\n",
        "X_test['bmi'] = X_test['bmi'].fillna(X_test['bmi'].mean())"
      ],
      "metadata": {
        "id": "lhAW7t4u4oOV"
      },
      "id": "lhAW7t4u4oOV",
      "execution_count": 96,
      "outputs": []
    },
    {
      "cell_type": "code",
      "source": [
        "# Linear Model with numeric variables\n",
        "numeric_vars = ['age', 'avg_glucose_level', 'bmi', 'heart_disease', 'hypertension']\n",
        "X_train_numeric = X_train[numeric_vars]\n",
        "X_test_numeric = X_test[numeric_vars]"
      ],
      "metadata": {
        "id": "MuKZHsn15ZF6"
      },
      "id": "MuKZHsn15ZF6",
      "execution_count": 97,
      "outputs": []
    },
    {
      "cell_type": "code",
      "source": [
        "X_train_numeric.head()"
      ],
      "metadata": {
        "colab": {
          "base_uri": "https://localhost:8080/",
          "height": 206
        },
        "id": "EgL-CCmZ5nCo",
        "outputId": "28063c29-65d4-4c67-a916-f4938565d874"
      },
      "id": "EgL-CCmZ5nCo",
      "execution_count": 98,
      "outputs": [
        {
          "output_type": "execute_result",
          "data": {
            "text/plain": [
              "    age  avg_glucose_level   bmi  heart_disease  hypertension\n",
              "0  36.0              65.87  32.2              0             0\n",
              "1  45.0              68.66  25.3              0             0\n",
              "2  58.0             170.93  30.7              0             0\n",
              "3  61.0              69.88  27.1              0             0\n",
              "4  78.0             103.86  30.6              0             0"
            ],
            "text/html": [
              "\n",
              "  <div id=\"df-1ce195e5-afcc-452a-a4e4-718d8f2cc3a6\" class=\"colab-df-container\">\n",
              "    <div>\n",
              "<style scoped>\n",
              "    .dataframe tbody tr th:only-of-type {\n",
              "        vertical-align: middle;\n",
              "    }\n",
              "\n",
              "    .dataframe tbody tr th {\n",
              "        vertical-align: top;\n",
              "    }\n",
              "\n",
              "    .dataframe thead th {\n",
              "        text-align: right;\n",
              "    }\n",
              "</style>\n",
              "<table border=\"1\" class=\"dataframe\">\n",
              "  <thead>\n",
              "    <tr style=\"text-align: right;\">\n",
              "      <th></th>\n",
              "      <th>age</th>\n",
              "      <th>avg_glucose_level</th>\n",
              "      <th>bmi</th>\n",
              "      <th>heart_disease</th>\n",
              "      <th>hypertension</th>\n",
              "    </tr>\n",
              "  </thead>\n",
              "  <tbody>\n",
              "    <tr>\n",
              "      <th>0</th>\n",
              "      <td>36.0</td>\n",
              "      <td>65.87</td>\n",
              "      <td>32.2</td>\n",
              "      <td>0</td>\n",
              "      <td>0</td>\n",
              "    </tr>\n",
              "    <tr>\n",
              "      <th>1</th>\n",
              "      <td>45.0</td>\n",
              "      <td>68.66</td>\n",
              "      <td>25.3</td>\n",
              "      <td>0</td>\n",
              "      <td>0</td>\n",
              "    </tr>\n",
              "    <tr>\n",
              "      <th>2</th>\n",
              "      <td>58.0</td>\n",
              "      <td>170.93</td>\n",
              "      <td>30.7</td>\n",
              "      <td>0</td>\n",
              "      <td>0</td>\n",
              "    </tr>\n",
              "    <tr>\n",
              "      <th>3</th>\n",
              "      <td>61.0</td>\n",
              "      <td>69.88</td>\n",
              "      <td>27.1</td>\n",
              "      <td>0</td>\n",
              "      <td>0</td>\n",
              "    </tr>\n",
              "    <tr>\n",
              "      <th>4</th>\n",
              "      <td>78.0</td>\n",
              "      <td>103.86</td>\n",
              "      <td>30.6</td>\n",
              "      <td>0</td>\n",
              "      <td>0</td>\n",
              "    </tr>\n",
              "  </tbody>\n",
              "</table>\n",
              "</div>\n",
              "    <div class=\"colab-df-buttons\">\n",
              "\n",
              "  <div class=\"colab-df-container\">\n",
              "    <button class=\"colab-df-convert\" onclick=\"convertToInteractive('df-1ce195e5-afcc-452a-a4e4-718d8f2cc3a6')\"\n",
              "            title=\"Convert this dataframe to an interactive table.\"\n",
              "            style=\"display:none;\">\n",
              "\n",
              "  <svg xmlns=\"http://www.w3.org/2000/svg\" height=\"24px\" viewBox=\"0 -960 960 960\">\n",
              "    <path d=\"M120-120v-720h720v720H120Zm60-500h600v-160H180v160Zm220 220h160v-160H400v160Zm0 220h160v-160H400v160ZM180-400h160v-160H180v160Zm440 0h160v-160H620v160ZM180-180h160v-160H180v160Zm440 0h160v-160H620v160Z\"/>\n",
              "  </svg>\n",
              "    </button>\n",
              "\n",
              "  <style>\n",
              "    .colab-df-container {\n",
              "      display:flex;\n",
              "      gap: 12px;\n",
              "    }\n",
              "\n",
              "    .colab-df-convert {\n",
              "      background-color: #E8F0FE;\n",
              "      border: none;\n",
              "      border-radius: 50%;\n",
              "      cursor: pointer;\n",
              "      display: none;\n",
              "      fill: #1967D2;\n",
              "      height: 32px;\n",
              "      padding: 0 0 0 0;\n",
              "      width: 32px;\n",
              "    }\n",
              "\n",
              "    .colab-df-convert:hover {\n",
              "      background-color: #E2EBFA;\n",
              "      box-shadow: 0px 1px 2px rgba(60, 64, 67, 0.3), 0px 1px 3px 1px rgba(60, 64, 67, 0.15);\n",
              "      fill: #174EA6;\n",
              "    }\n",
              "\n",
              "    .colab-df-buttons div {\n",
              "      margin-bottom: 4px;\n",
              "    }\n",
              "\n",
              "    [theme=dark] .colab-df-convert {\n",
              "      background-color: #3B4455;\n",
              "      fill: #D2E3FC;\n",
              "    }\n",
              "\n",
              "    [theme=dark] .colab-df-convert:hover {\n",
              "      background-color: #434B5C;\n",
              "      box-shadow: 0px 1px 3px 1px rgba(0, 0, 0, 0.15);\n",
              "      filter: drop-shadow(0px 1px 2px rgba(0, 0, 0, 0.3));\n",
              "      fill: #FFFFFF;\n",
              "    }\n",
              "  </style>\n",
              "\n",
              "    <script>\n",
              "      const buttonEl =\n",
              "        document.querySelector('#df-1ce195e5-afcc-452a-a4e4-718d8f2cc3a6 button.colab-df-convert');\n",
              "      buttonEl.style.display =\n",
              "        google.colab.kernel.accessAllowed ? 'block' : 'none';\n",
              "\n",
              "      async function convertToInteractive(key) {\n",
              "        const element = document.querySelector('#df-1ce195e5-afcc-452a-a4e4-718d8f2cc3a6');\n",
              "        const dataTable =\n",
              "          await google.colab.kernel.invokeFunction('convertToInteractive',\n",
              "                                                    [key], {});\n",
              "        if (!dataTable) return;\n",
              "\n",
              "        const docLinkHtml = 'Like what you see? Visit the ' +\n",
              "          '<a target=\"_blank\" href=https://colab.research.google.com/notebooks/data_table.ipynb>data table notebook</a>'\n",
              "          + ' to learn more about interactive tables.';\n",
              "        element.innerHTML = '';\n",
              "        dataTable['output_type'] = 'display_data';\n",
              "        await google.colab.output.renderOutput(dataTable, element);\n",
              "        const docLink = document.createElement('div');\n",
              "        docLink.innerHTML = docLinkHtml;\n",
              "        element.appendChild(docLink);\n",
              "      }\n",
              "    </script>\n",
              "  </div>\n",
              "\n",
              "\n",
              "<div id=\"df-f1155ced-cf88-408d-a14c-cb26bd0221da\">\n",
              "  <button class=\"colab-df-quickchart\" onclick=\"quickchart('df-f1155ced-cf88-408d-a14c-cb26bd0221da')\"\n",
              "            title=\"Suggest charts\"\n",
              "            style=\"display:none;\">\n",
              "\n",
              "<svg xmlns=\"http://www.w3.org/2000/svg\" height=\"24px\"viewBox=\"0 0 24 24\"\n",
              "     width=\"24px\">\n",
              "    <g>\n",
              "        <path d=\"M19 3H5c-1.1 0-2 .9-2 2v14c0 1.1.9 2 2 2h14c1.1 0 2-.9 2-2V5c0-1.1-.9-2-2-2zM9 17H7v-7h2v7zm4 0h-2V7h2v10zm4 0h-2v-4h2v4z\"/>\n",
              "    </g>\n",
              "</svg>\n",
              "  </button>\n",
              "\n",
              "<style>\n",
              "  .colab-df-quickchart {\n",
              "      --bg-color: #E8F0FE;\n",
              "      --fill-color: #1967D2;\n",
              "      --hover-bg-color: #E2EBFA;\n",
              "      --hover-fill-color: #174EA6;\n",
              "      --disabled-fill-color: #AAA;\n",
              "      --disabled-bg-color: #DDD;\n",
              "  }\n",
              "\n",
              "  [theme=dark] .colab-df-quickchart {\n",
              "      --bg-color: #3B4455;\n",
              "      --fill-color: #D2E3FC;\n",
              "      --hover-bg-color: #434B5C;\n",
              "      --hover-fill-color: #FFFFFF;\n",
              "      --disabled-bg-color: #3B4455;\n",
              "      --disabled-fill-color: #666;\n",
              "  }\n",
              "\n",
              "  .colab-df-quickchart {\n",
              "    background-color: var(--bg-color);\n",
              "    border: none;\n",
              "    border-radius: 50%;\n",
              "    cursor: pointer;\n",
              "    display: none;\n",
              "    fill: var(--fill-color);\n",
              "    height: 32px;\n",
              "    padding: 0;\n",
              "    width: 32px;\n",
              "  }\n",
              "\n",
              "  .colab-df-quickchart:hover {\n",
              "    background-color: var(--hover-bg-color);\n",
              "    box-shadow: 0 1px 2px rgba(60, 64, 67, 0.3), 0 1px 3px 1px rgba(60, 64, 67, 0.15);\n",
              "    fill: var(--button-hover-fill-color);\n",
              "  }\n",
              "\n",
              "  .colab-df-quickchart-complete:disabled,\n",
              "  .colab-df-quickchart-complete:disabled:hover {\n",
              "    background-color: var(--disabled-bg-color);\n",
              "    fill: var(--disabled-fill-color);\n",
              "    box-shadow: none;\n",
              "  }\n",
              "\n",
              "  .colab-df-spinner {\n",
              "    border: 2px solid var(--fill-color);\n",
              "    border-color: transparent;\n",
              "    border-bottom-color: var(--fill-color);\n",
              "    animation:\n",
              "      spin 1s steps(1) infinite;\n",
              "  }\n",
              "\n",
              "  @keyframes spin {\n",
              "    0% {\n",
              "      border-color: transparent;\n",
              "      border-bottom-color: var(--fill-color);\n",
              "      border-left-color: var(--fill-color);\n",
              "    }\n",
              "    20% {\n",
              "      border-color: transparent;\n",
              "      border-left-color: var(--fill-color);\n",
              "      border-top-color: var(--fill-color);\n",
              "    }\n",
              "    30% {\n",
              "      border-color: transparent;\n",
              "      border-left-color: var(--fill-color);\n",
              "      border-top-color: var(--fill-color);\n",
              "      border-right-color: var(--fill-color);\n",
              "    }\n",
              "    40% {\n",
              "      border-color: transparent;\n",
              "      border-right-color: var(--fill-color);\n",
              "      border-top-color: var(--fill-color);\n",
              "    }\n",
              "    60% {\n",
              "      border-color: transparent;\n",
              "      border-right-color: var(--fill-color);\n",
              "    }\n",
              "    80% {\n",
              "      border-color: transparent;\n",
              "      border-right-color: var(--fill-color);\n",
              "      border-bottom-color: var(--fill-color);\n",
              "    }\n",
              "    90% {\n",
              "      border-color: transparent;\n",
              "      border-bottom-color: var(--fill-color);\n",
              "    }\n",
              "  }\n",
              "</style>\n",
              "\n",
              "  <script>\n",
              "    async function quickchart(key) {\n",
              "      const quickchartButtonEl =\n",
              "        document.querySelector('#' + key + ' button');\n",
              "      quickchartButtonEl.disabled = true;  // To prevent multiple clicks.\n",
              "      quickchartButtonEl.classList.add('colab-df-spinner');\n",
              "      try {\n",
              "        const charts = await google.colab.kernel.invokeFunction(\n",
              "            'suggestCharts', [key], {});\n",
              "      } catch (error) {\n",
              "        console.error('Error during call to suggestCharts:', error);\n",
              "      }\n",
              "      quickchartButtonEl.classList.remove('colab-df-spinner');\n",
              "      quickchartButtonEl.classList.add('colab-df-quickchart-complete');\n",
              "    }\n",
              "    (() => {\n",
              "      let quickchartButtonEl =\n",
              "        document.querySelector('#df-f1155ced-cf88-408d-a14c-cb26bd0221da button');\n",
              "      quickchartButtonEl.style.display =\n",
              "        google.colab.kernel.accessAllowed ? 'block' : 'none';\n",
              "    })();\n",
              "  </script>\n",
              "</div>\n",
              "    </div>\n",
              "  </div>\n"
            ]
          },
          "metadata": {},
          "execution_count": 98
        }
      ]
    },
    {
      "cell_type": "code",
      "source": [
        "def fun(x):\n",
        "  print(x, '\\n')"
      ],
      "metadata": {
        "id": "cXz_7_B65uZc"
      },
      "id": "cXz_7_B65uZc",
      "execution_count": 99,
      "outputs": []
    },
    {
      "cell_type": "code",
      "source": [
        "# Linear Fit of Numeric Values\n",
        "\n",
        "from sklearn.linear_model import LinearRegression\n",
        "\n",
        "linearFit = LinearRegression().fit(X_train_numeric, y_train)\n",
        "\n",
        "\n",
        "print(\"Intercept:\")\n",
        "fun(linearFit.intercept_) # Intercept\n",
        "print(\"Regression coefficient:\")\n",
        "fun(linearFit.coef_) # Regression coefficient\n",
        "print(\"R-squared mean:\")\n",
        "fun(linearFit.score(X_train_numeric, y_train)) # R squared measure\n",
        "print(\"RMSE:\")\n",
        "print(np.sqrt(np.mean((y_hat - y_test) ** 2)))"
      ],
      "metadata": {
        "id": "uCGjOoWl_iVv",
        "outputId": "289ad7c2-0998-4424-f160-44f25458106a",
        "colab": {
          "base_uri": "https://localhost:8080/"
        }
      },
      "id": "uCGjOoWl_iVv",
      "execution_count": 101,
      "outputs": [
        {
          "output_type": "stream",
          "name": "stdout",
          "text": [
            "Intercept:\n",
            "-0.03732484157821202 \n",
            "\n",
            "Regression coefficient:\n",
            "[ 0.0019686   0.00035747 -0.00156357  0.06353379  0.04594216] \n",
            "\n",
            "R-squared mean:\n",
            "0.07559627758795073 \n",
            "\n",
            "RMSE:\n",
            "0.20599583849612824\n"
          ]
        }
      ]
    },
    {
      "cell_type": "code",
      "source": [
        "# Predicted values for numerics:\n",
        "y_hat = linearFit.predict(X_test_numeric)\n",
        "residuals_lm = y_test - y_hat"
      ],
      "metadata": {
        "id": "XLTwOmL87L0n"
      },
      "id": "XLTwOmL87L0n",
      "execution_count": 103,
      "outputs": []
    },
    {
      "cell_type": "markdown",
      "source": [
        "The numeric linear fit has a lower R-squared mean then the original model. This makes sense as the original model included more variables to predict the likelihood of a stroke. It has a slightly higher RMSE then the previous model."
      ],
      "metadata": {
        "id": "f4lcoZzA6GEy"
      },
      "id": "f4lcoZzA6GEy"
    },
    {
      "cell_type": "code",
      "source": [
        "from sklearn.metrics import r2_score\n",
        "from sklearn.metrics import mean_squared_error\n",
        "from sklearn.preprocessing import OneHotEncoder"
      ],
      "metadata": {
        "id": "QzPn1Duw6clI"
      },
      "id": "QzPn1Duw6clI",
      "execution_count": 104,
      "outputs": []
    },
    {
      "cell_type": "code",
      "source": [
        "# New Model for Categorical Variables:\n",
        "# Categorical Variables with One-Hot Encoding Model\n",
        "categorical_vars = ['gender', 'ever_married', 'work_type', 'Residence_type', 'smoking_status']\n",
        "X_train_categorical = X_train[categorical_vars]\n",
        "X_test_categorical = X_test[categorical_vars]\n",
        "\n",
        "encoder = OneHotEncoder(sparse=False, drop='first')\n",
        "Xtrain_encoded = encoder.fit_transform(X_train_categorical)\n",
        "Xtest_encoded = encoder.transform(X_test_categorical)\n"
      ],
      "metadata": {
        "id": "aJyNvTmP3iMf",
        "outputId": "fd92c193-5bb9-462e-b149-47f73b44f9f8",
        "colab": {
          "base_uri": "https://localhost:8080/"
        }
      },
      "id": "aJyNvTmP3iMf",
      "execution_count": 105,
      "outputs": [
        {
          "output_type": "stream",
          "name": "stderr",
          "text": [
            "/usr/local/lib/python3.10/dist-packages/sklearn/preprocessing/_encoders.py:868: FutureWarning: `sparse` was renamed to `sparse_output` in version 1.2 and will be removed in 1.4. `sparse_output` is ignored unless you leave `sparse` to its default value.\n",
            "  warnings.warn(\n"
          ]
        }
      ]
    },
    {
      "cell_type": "code",
      "source": [
        "model = LinearRegression()\n",
        "model.fit(Xtrain_encoded, y_train)\n",
        "r2_categorical = model.score(Xtest_encoded, y_test)\n",
        "y_pred_cat = model.predict(Xtest_encoded)\n",
        "rmse_cat = np.sqrt(np.mean((y_pred_cat - y_test) ** 2))\n",
        "print(\"R2:\", r2_categorical)\n",
        "print(\"RMSE:\", rmse_cat)"
      ],
      "metadata": {
        "id": "ZRxfSd_g78Yh",
        "outputId": "20c643bd-2b99-48fe-9f68-89e9d9aee265",
        "colab": {
          "base_uri": "https://localhost:8080/"
        }
      },
      "id": "ZRxfSd_g78Yh",
      "execution_count": 106,
      "outputs": [
        {
          "output_type": "stream",
          "name": "stdout",
          "text": [
            "R2: 0.02438547032985694\n",
            "RMSE: 0.2129633738126354\n"
          ]
        }
      ]
    },
    {
      "cell_type": "code",
      "source": [
        "X_combined_train = np.concatenate((X_train_numeric, Xtrain_encoded), axis=1)\n",
        "X_combined_test = np.concatenate((X_test_numeric, Xtest_encoded), axis=1)"
      ],
      "metadata": {
        "id": "zucN7nKj8Tkl"
      },
      "id": "zucN7nKj8Tkl",
      "execution_count": 107,
      "outputs": []
    },
    {
      "cell_type": "code",
      "source": [
        "model_combined = LinearRegression()\n",
        "model_combined.fit(X_combined_train, y_train)\n",
        "r2_combined = model_combined.score(X_combined_test, y_test)\n",
        "y_pred_combined = model_combined.predict(X_combined_test)\n",
        "rmse_combined = np.sqrt(np.mean((y_pred_combined - y_test) ** 2))\n",
        "print(\"R2:\", r2_combined)\n",
        "print(\"RMSE:\", rmse_combined)\n"
      ],
      "metadata": {
        "id": "hW8UL8kk8Ui2",
        "outputId": "15f985ca-9c82-479e-dd99-01e93b78c494",
        "colab": {
          "base_uri": "https://localhost:8080/"
        }
      },
      "id": "hW8UL8kk8Ui2",
      "execution_count": 108,
      "outputs": [
        {
          "output_type": "stream",
          "name": "stdout",
          "text": [
            "R2: 0.0817718426714169\n",
            "RMSE: 0.20660512565020178\n"
          ]
        }
      ]
    },
    {
      "cell_type": "code",
      "source": [
        "# Expanding the numerical variables with degree 3\n",
        "\n",
        "# Expand features\n",
        "expander = PolynomialFeatures(degree=3,include_bias=False) # Create the expander\n",
        "Z_train = expander.fit_transform(X_train_numeric) # Pass the df into the expander to get powers/interactions of x and y\n",
        "names = expander.get_feature_names_out() # Get the names of these variables\n",
        "X_train_lm = pd.DataFrame(data=Z_train, columns = names) # Create a new, expanded dataframe\n",
        "\n",
        "Z_test = expander.fit_transform(X_test_numeric) # Pass the df into the expander to get powers/interactions of x and y\n",
        "names = expander.get_feature_names_out() # Get the names of these variables\n",
        "X_test_lm = pd.DataFrame(data=Z_test, columns = names) # Create a new, expanded dataframe"
      ],
      "metadata": {
        "id": "Z3NAF-kA8hd7"
      },
      "id": "Z3NAF-kA8hd7",
      "execution_count": 109,
      "outputs": []
    },
    {
      "cell_type": "code",
      "source": [
        "categorical_vars = ['gender', 'ever_married', 'work_type', 'Residence_type', 'smoking_status', 'heart_disease', 'hypertension']\n",
        "X_train_categorical = X_train[categorical_vars]\n",
        "X_train_categorical = X_train[categorical_vars]\n",
        "X_test_categorical = X_test[categorical_vars]\n",
        "\n",
        "encoder = OneHotEncoder(sparse=False, drop='first')\n",
        "Xtrain_encoded = encoder.fit_transform(X_train_categorical)\n",
        "Xtest_encoded = encoder.transform(X_test_categorical)"
      ],
      "metadata": {
        "id": "yOXO6vKW8qZO",
        "outputId": "2639699f-d384-481b-9687-f55b8217e54e",
        "colab": {
          "base_uri": "https://localhost:8080/"
        }
      },
      "id": "yOXO6vKW8qZO",
      "execution_count": 110,
      "outputs": [
        {
          "output_type": "stream",
          "name": "stderr",
          "text": [
            "/usr/local/lib/python3.10/dist-packages/sklearn/preprocessing/_encoders.py:868: FutureWarning: `sparse` was renamed to `sparse_output` in version 1.2 and will be removed in 1.4. `sparse_output` is ignored unless you leave `sparse` to its default value.\n",
            "  warnings.warn(\n"
          ]
        }
      ]
    },
    {
      "cell_type": "code",
      "source": [
        "X_combined_train = np.concatenate((X_train_lm, Xtrain_encoded), axis=1)\n",
        "X_combined_test = np.concatenate((X_test_lm, Xtest_encoded), axis=1)\n"
      ],
      "metadata": {
        "id": "pwPCJVg_8xXE"
      },
      "id": "pwPCJVg_8xXE",
      "execution_count": 111,
      "outputs": []
    },
    {
      "cell_type": "code",
      "source": [
        "# Degree 3\n",
        "\n",
        "model_combined = LinearRegression()\n",
        "model_combined.fit(X_combined_train, y_train)\n",
        "r2_combined = model_combined.score(X_combined_test, y_test)\n",
        "y_pred_combined = model_combined.predict(X_combined_test)\n",
        "rmse_combined = np.sqrt(np.mean((y_pred_combined - y_test) ** 2))\n",
        "print(\"R2:\", r2_combined)\n",
        "print(\"RMSE:\", rmse_combined)"
      ],
      "metadata": {
        "id": "6HSqo2L880Wh",
        "outputId": "52673ec6-74ea-47ee-dee3-dc26d5e897ca",
        "colab": {
          "base_uri": "https://localhost:8080/"
        }
      },
      "id": "6HSqo2L880Wh",
      "execution_count": 112,
      "outputs": [
        {
          "output_type": "stream",
          "name": "stdout",
          "text": [
            "R2: 0.054534656741827114\n",
            "RMSE: 0.20964697272608937\n"
          ]
        }
      ]
    },
    {
      "cell_type": "code",
      "source": [
        "# Expand features with degree 5\n",
        "expander = PolynomialFeatures(degree=5,include_bias=False) # Create the expander\n",
        "Z_train = expander.fit_transform(X_train_numeric) # Pass the df into the expander to get powers/interactions of x and y\n",
        "names = expander.get_feature_names_out() # Get the names of these variables\n",
        "X_train_lm = pd.DataFrame(data=Z_train, columns = names) # Create a new, expanded dataframe\n",
        "\n",
        "Z_test = expander.fit_transform(X_test_numeric) # Pass the df into the expander to get powers/interactions of x and y\n",
        "names = expander.get_feature_names_out() # Get the names of these variables\n",
        "X_test_lm = pd.DataFrame(data=Z_test, columns = names) # Create a new, expanded dataframe\n",
        "\n",
        "# combine datasets\n",
        "X_combined_train = np.concatenate((X_train_lm, Xtrain_encoded), axis=1)\n",
        "X_combined_test = np.concatenate((X_test_lm, Xtest_encoded), axis=1)\n",
        "\n",
        "# run new model\n",
        "model_combined = LinearRegression()\n",
        "model_combined.fit(X_combined_train, y_train)\n",
        "r2_combined = model_combined.score(X_combined_test, y_test)\n",
        "y_pred_combined = model_combined.predict(X_combined_test)\n",
        "rmse_combined = np.sqrt(np.mean((y_pred_combined - y_test) ** 2))\n",
        "print(\"R2:\", r2_combined)\n",
        "print(\"RMSE:\", rmse_combined)"
      ],
      "metadata": {
        "id": "HPRzt-Ly85lX",
        "outputId": "c02dd3ae-d1a8-4003-ec03-35d3b826bb8e",
        "colab": {
          "base_uri": "https://localhost:8080/"
        }
      },
      "id": "HPRzt-Ly85lX",
      "execution_count": 113,
      "outputs": [
        {
          "output_type": "stream",
          "name": "stdout",
          "text": [
            "R2: -0.22515972308761567\n",
            "RMSE: 0.23865038762310053\n"
          ]
        }
      ]
    },
    {
      "cell_type": "code",
      "source": [
        "# Expand features with degree 1\n",
        "expander = PolynomialFeatures(degree=1,include_bias=False) # Create the expander\n",
        "Z_train = expander.fit_transform(X_train_numeric) # Pass the df into the expander to get powers/interactions of x and y\n",
        "names = expander.get_feature_names_out() # Get the names of these variables\n",
        "X_train_lm = pd.DataFrame(data=Z_train, columns = names) # Create a new, expanded dataframe\n",
        "\n",
        "Z_test = expander.fit_transform(X_test_numeric) # Pass the df into the expander to get powers/interactions of x and y\n",
        "names = expander.get_feature_names_out() # Get the names of these variables\n",
        "X_test_lm = pd.DataFrame(data=Z_test, columns = names) # Create a new, expanded dataframe\n",
        "\n",
        "# combine datasets\n",
        "X_combined_train = np.concatenate((X_train_lm, Xtrain_encoded), axis=1)\n",
        "X_combined_test = np.concatenate((X_test_lm, Xtest_encoded), axis=1)\n",
        "\n",
        "# run new model\n",
        "model_combined = LinearRegression()\n",
        "model_combined.fit(X_combined_train, y_train)\n",
        "r2_combined = model_combined.score(X_combined_test, y_test)\n",
        "y_pred_combined = model_combined.predict(X_combined_test)\n",
        "rmse_combined = np.sqrt(np.mean((y_pred_combined - y_test) ** 2))\n",
        "print(\"R2:\", r2_combined)\n",
        "print(\"RMSE:\", rmse_combined)"
      ],
      "metadata": {
        "id": "ZMKhwx3f89UI",
        "outputId": "0d60e10d-5fc1-40c8-bf89-c07e4f421b26",
        "colab": {
          "base_uri": "https://localhost:8080/"
        }
      },
      "id": "ZMKhwx3f89UI",
      "execution_count": 114,
      "outputs": [
        {
          "output_type": "stream",
          "name": "stdout",
          "text": [
            "R2: 0.0817718426714169\n",
            "RMSE: 0.20660512565020178\n"
          ]
        }
      ]
    },
    {
      "cell_type": "code",
      "source": [
        "# looping through each degree to find the R2 and the RMSE values\n",
        "\n",
        "for i in range(1,10):\n",
        "  # Expand features with degree i\n",
        "  expander = PolynomialFeatures(degree=i,include_bias=False) # Create the expander\n",
        "  Z_train = expander.fit_transform(X_train_numeric) # Pass the df into the expander to get powers/interactions of x and y\n",
        "  names = expander.get_feature_names_out() # Get the names of these variables\n",
        "  X_train_lm = pd.DataFrame(data=Z_train, columns = names) # Create a new, expanded dataframe\n",
        "\n",
        "  Z_test = expander.fit_transform(X_test_numeric) # Pass the df into the expander to get powers/interactions of x and y\n",
        "  names = expander.get_feature_names_out() # Get the names of these variables\n",
        "  X_test_lm = pd.DataFrame(data=Z_test, columns = names) # Create a new, expanded dataframe\n",
        "\n",
        "  # combine datasets\n",
        "  X_combined_train = np.concatenate((X_train_lm, Xtrain_encoded), axis=1)\n",
        "  X_combined_test = np.concatenate((X_test_lm, Xtest_encoded), axis=1)\n",
        "\n",
        "  # run new model\n",
        "  model_combined = LinearRegression()\n",
        "  model_combined.fit(X_combined_train, y_train)\n",
        "  r2_combined = model_combined.score(X_combined_test, y_test)\n",
        "  y_pred_combined = model_combined.predict(X_combined_test)\n",
        "  rmse_combined = np.sqrt(np.mean((y_pred_combined - y_test) ** 2))\n",
        "  print(\"R2:\", r2_combined)\n",
        "  print(\"RMSE:\", rmse_combined)\n",
        "  print('-----------------------')"
      ],
      "metadata": {
        "id": "KiAo5mxH9BXi",
        "outputId": "856f387c-f0e9-44b4-c373-16b8902b8023",
        "colab": {
          "base_uri": "https://localhost:8080/"
        }
      },
      "id": "KiAo5mxH9BXi",
      "execution_count": 115,
      "outputs": [
        {
          "output_type": "stream",
          "name": "stdout",
          "text": [
            "R2: 0.0817718426714169\n",
            "RMSE: 0.20660512565020178\n",
            "-----------------------\n",
            "R2: 0.08628551101339699\n",
            "RMSE: 0.20609670307216973\n",
            "-----------------------\n",
            "R2: 0.054534656741827114\n",
            "RMSE: 0.20964697272608937\n",
            "-----------------------\n",
            "R2: 0.027145690412441414\n",
            "RMSE: 0.21266190119027395\n",
            "-----------------------\n",
            "R2: -0.22515972308761567\n",
            "RMSE: 0.23865038762310053\n",
            "-----------------------\n",
            "R2: -1.5771842109384\n",
            "RMSE: 0.3461294239412552\n",
            "-----------------------\n",
            "R2: -96.3335095305808\n",
            "RMSE: 2.1271444357747726\n",
            "-----------------------\n",
            "R2: -2601.9765851649513\n",
            "RMSE: 11.00020856055648\n",
            "-----------------------\n",
            "R2: -367.0511068732512\n",
            "RMSE: 4.136374505279671\n",
            "-----------------------\n"
          ]
        }
      ]
    },
    {
      "cell_type": "markdown",
      "source": [
        "Degree 2 has the lowest RMSE; however, the very first model still has the lowest RMSE."
      ],
      "metadata": {
        "id": "MTwGJkD59mzG"
      },
      "id": "MTwGJkD59mzG"
    },
    {
      "cell_type": "markdown",
      "source": [
        "Simple Linear Model with all variables conveerted to Numerical Variables."
      ],
      "metadata": {
        "id": "R3Xs0MNrAaEK"
      },
      "id": "R3Xs0MNrAaEK"
    },
    {
      "cell_type": "markdown",
      "source": [
        "Converting all catgeorical variables to numerical variables."
      ],
      "metadata": {
        "id": "Kj5dab7ZAgKQ"
      },
      "id": "Kj5dab7ZAgKQ"
    },
    {
      "cell_type": "code",
      "source": [
        "#ever_married to 0 (no) and 1 (yes): Numerical Dummy\n",
        "df_train['ever_married'] = df_train['ever_married'].replace({\"No\":0, \"Yes\":1})\n",
        "df_test['ever_married'] = df_test['ever_married'].replace({\"No\":0, \"Yes\":1})"
      ],
      "metadata": {
        "id": "BR-BAxw8AlPC"
      },
      "id": "BR-BAxw8AlPC",
      "execution_count": 118,
      "outputs": []
    },
    {
      "cell_type": "code",
      "source": [
        "# Residence_type (0: Urban, 1:Rural): Numerical Dummy\n",
        "df_train['Residence_type'] = df_train['Residence_type'].replace({\"Urban\":0, \"Rural\":1})\n",
        "df_test['Residence_type'] = df_test['Residence_type'].replace({\"Urban\":0, \"Rural\":1})"
      ],
      "metadata": {
        "id": "PBpn8fNZAp2V"
      },
      "id": "PBpn8fNZAp2V",
      "execution_count": 119,
      "outputs": []
    },
    {
      "cell_type": "code",
      "source": [
        "# Gender (0:male, 1:female, 2:other): Numerical\n",
        "df_train['gender'] = df_train['gender'].replace({\"Male\":0, \"Female\":1, \"Other\":2})\n",
        "df_test['gender'] = df_test['gender'].replace({\"Male\":0, \"Female\":1, \"Other\":2})"
      ],
      "metadata": {
        "id": "qZCtOzYTArw9"
      },
      "id": "qZCtOzYTArw9",
      "execution_count": 120,
      "outputs": []
    },
    {
      "cell_type": "code",
      "source": [
        "# smoking_status (0:never, 1:formerly, 2:smokes, 3:unknown): Numerical\n",
        "df_train['smoking_status'] = df_train['smoking_status'].replace({\"never smoked\":0, \"formerly smoked\":1, \"smokes\":2,\n",
        "                                                          \"Unknown\":3})\n",
        "df_test['smoking_status'] = df_test['smoking_status'].replace({\"never smoked\":0, \"formerly smoked\":1, \"smokes\":2,\n",
        "                                                          \"Unknown\":3})"
      ],
      "metadata": {
        "id": "QCQR4Me7AuBg"
      },
      "id": "QCQR4Me7AuBg",
      "execution_count": 121,
      "outputs": []
    },
    {
      "cell_type": "code",
      "source": [
        "# work_type (0: never_worked, 1: children, 2: govt_job, 3: private, 4: self_employed)\n",
        "df_train['work_type'] = df_train['work_type'].replace({\"Never_worked\":0, \"children\":1, \"Govt_job\":2,\n",
        "                                                          \"Private\":3, \"Self-employed\":4})\n",
        "df_test['work_type'] = df_test['work_type'].replace({\"Never_worked\":0, \"children\":1, \"Govt_job\":2,\n",
        "                                                          \"Private\":3, \"Self-employed\":4})"
      ],
      "metadata": {
        "id": "lOW09UYvAx2z"
      },
      "id": "lOW09UYvAx2z",
      "execution_count": 122,
      "outputs": []
    },
    {
      "cell_type": "code",
      "source": [
        "# Splitting the data and filling in some of the NAs with averages\n",
        "y_train = df_train['stroke']\n",
        "X_train = df_train.drop('stroke',axis=1)\n",
        "y_test = df_test['stroke']\n",
        "X_test = df_test.drop('stroke',axis=1)\n",
        "\n",
        "X_train['bmi'] = X_train['bmi'].fillna(X_train['bmi'].mean())\n",
        "X_test['bmi'] = X_test['bmi'].fillna(X_test['bmi'].mean())"
      ],
      "metadata": {
        "id": "1CbX0nISBiKG"
      },
      "execution_count": 123,
      "outputs": [],
      "id": "1CbX0nISBiKG"
    },
    {
      "cell_type": "code",
      "source": [
        "from sklearn.linear_model import LinearRegression as lr\n",
        "\n",
        "TSS = np.sum( (y_test - y_test.mean())**2 )\n",
        "N_test = len(y_test)\n",
        "\n",
        "#fitting model and making predictions for test data\n",
        "reg = lr().fit(X_train, y_train)\n",
        "y_hat = reg.predict(X_test)\n",
        "\n",
        "#calculating r-squared\n",
        "rsqu = reg.score(X_test, y_test)\n",
        "print(\"R-Squared: \", rsqu )\n",
        "\n",
        "#calculating RMSE\n",
        "SSE_lm =np.sum((y_test-y_hat)**2)\n",
        "RMSE_lm = (SSE_lm/N_test)**(1/2)\n",
        "R2_lm = 1-SSE_lm/TSS\n",
        "print('RMSE: ', RMSE_lm)"
      ],
      "metadata": {
        "id": "pW675kW5AcC_",
        "outputId": "547fb4e5-8353-46fb-e54e-4698d6f035a8",
        "colab": {
          "base_uri": "https://localhost:8080/"
        }
      },
      "id": "pW675kW5AcC_",
      "execution_count": 124,
      "outputs": [
        {
          "output_type": "stream",
          "name": "stdout",
          "text": [
            "R-Squared:  0.1887085581105703\n",
            "RMSE:  0.19420224046776433\n"
          ]
        }
      ]
    },
    {
      "cell_type": "markdown",
      "source": [
        "This RMSE is much lower than the original models RMSE; however, it's R2 is much lower than the originals R2. This makes sense as using categorical variables as numerical values could skew he models capability to predict an outcome of a stroke.  "
      ],
      "metadata": {
        "id": "0Lb1exncBwf9"
      },
      "id": "0Lb1exncBwf9"
    },
    {
      "cell_type": "code",
      "source": [],
      "metadata": {
        "id": "eqA6Wwf0CCj9"
      },
      "id": "eqA6Wwf0CCj9",
      "execution_count": null,
      "outputs": []
    },
    {
      "cell_type": "markdown",
      "id": "93879b8c-d807-475a-bc82-c855f7d98c97",
      "metadata": {
        "id": "93879b8c-d807-475a-bc82-c855f7d98c97"
      },
      "source": [
        "This is supposed to be fairly \"fun,\" so please do not turn it into a combinatorial nightmare of comparing thousands of model specifications. Settle on a strategy you think is promising, crank it out, and write up the results. Your time and energy are valuable, so learn to recognize when the marginal cost of another twenty minutes on a project exceeds the benefit in terms of improving the results and your grade.\n",
        "  \n",
        "## Paper format\n",
        "\n",
        "The format of the paper should be:\n",
        "\n",
        "  - Summary: A one paragraph description of the question, methods, and results (about 350 words).\n",
        "  - Data: One to two pages discussing the data and key variables, and any challenges in reading, cleaning, and preparing them for analysis.\n",
        "  - Results: Two to five pages providing visualizations, statistics, a discussion of your methodology, and a presentation of your main findings.\n",
        "  - Conclusion: One to two pages summarizing the project, defending it from criticism, and suggesting additional work that was outside the scope of the project.\n",
        "  - Appendix: If you have a significant number of additional plots or table that you feel are essential to the project, you can put any amount of extra content at the end and reference it from the body of the paper.\n",
        "\n",
        "## Submission\n",
        "\n",
        "Half of each student's grade is based on their commits to the repo. Each student is expected to do something specific that contributes to the overall project outcome. Since commits are recorded explicitly by Git/GitHub, this is observable. A student can contribute by cleaning data, creating visualizations,performing analytic analyses,  or writing about results, but everyone has to do something substantial. A student's work doesn't need to make it into the final report to be valuable and substantial, and fulfill the requirement to make a contribution to the project.\n",
        "\n",
        "The other half of each student's grade is based on the written report. Groups will work together on combining results and writing up findings in a Jupyter noteb,ok, using code chunks to execute Python commands and markdown chunks to structure the paper and provide exposition. The notebook should run on Colab or Rivana from beginning to end without any errors.\n",
        "\n",
        "mbers submit.\n",
        "\n",
        "## Criteria\n",
        "\n",
        "The project is graded based on four criteria:\n",
        "\n",
        "  - Project Concept: What is the strategy for building and testing the group's models? How did the group decide how to use the tools presented so far in class? How did the group compare the performance of the options considered, and settle on a final choice for submission?\n",
        "  - Wrangling, EDA, and Visualization: How are are missing values handled? For variables with large numbers of missing values, to what extent do the data and documentation provide an explanation for the missing data? If multiple data sources are used, how are the data merged? For the main variables in the analysis, are the relevant data summarized and visualized through a histogram or kernel density plot where appropriate? Are basic quantitative features of the data addressed and explained? How are outliers characterized and addressed?\n",
        "  - Analysis: What are the groups' main findings? Do the tables, plots, and statistics support the conclusions? Is the research strategy carried out correctly? If the research strategy succeeds, are the results interpreted correctly and appropriately? If the research strategy fails, is a useful discussion of the flaws of the data collection process or the research strategy discussed?\n",
        "  - Replication/Documentation: Is the code appropriately commented? Can the main results be replicated from the code and original data files? Are significant choices noted and explained?\n",
        "\n",
        "Each of the four criteria are equally weighted (25 points out of 100)."
      ]
    }
  ],
  "metadata": {
    "kernelspec": {
      "display_name": "Python 3 (ipykernel)",
      "language": "python",
      "name": "python3"
    },
    "language_info": {
      "codemirror_mode": {
        "name": "ipython",
        "version": 3
      },
      "file_extension": ".py",
      "mimetype": "text/x-python",
      "name": "python",
      "nbconvert_exporter": "python",
      "pygments_lexer": "ipython3",
      "version": "3.11.4"
    },
    "colab": {
      "provenance": []
    }
  },
  "nbformat": 4,
  "nbformat_minor": 5
}